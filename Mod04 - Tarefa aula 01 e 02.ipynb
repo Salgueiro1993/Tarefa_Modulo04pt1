{
 "cells": [
  {
   "cell_type": "markdown",
   "metadata": {},
   "source": [
    "# Tarefa 01\n",
    "\n",
    "- Leia os enunciados com atenção\n",
    "- Saiba que pode haver mais de uma resposta correta\n",
    "- Insira novas células de código sempre que achar necessário\n",
    "- Em caso de dúvidas, procure os tutores\n",
    "- Divirta-se :)\n",
    "\n",
    "#### 1)  crie uma série do pandas a partir de uma lista com os dados abaixo:\n",
    "\n",
    "Em um estudo sobre alteração na tempreatura global, A NASA disponibiliza dados de diferenças de de temperatura média da superfície terrestre relativos às médias de temperatura entre 1951 e 1980. Os dados originais podem ser vistos no site da NASA/GISS, e estão dispostos a cada década na tabela abaixo.\n",
    "\n",
    "|ano|anomalia termica|\n",
    "|:-:|:----:|\n",
    "| 1900 | -0.08 |\n",
    "| 1920 | -0.27 |\n",
    "| 1940 | 0.12 |\n",
    "| 1960 | -0.03 |\n",
    "| 1980 | 0.26 |\n",
    "| 2000 | 0.40 |\n",
    "| 2020 | 1.02 |\n",
    "\n",
    "Crie uma séries do Pandas a partir de uma lista com esses dados."
   ]
  },
  {
   "cell_type": "code",
   "execution_count": 1,
   "metadata": {},
   "outputs": [
    {
     "name": "stdout",
     "output_type": "stream",
     "text": [
      "1900   -0.08\n",
      "1920   -0.27\n",
      "1940    0.12\n",
      "1960   -0.03\n",
      "1980    0.26\n",
      "2000    0.40\n",
      "2020    1.02\n",
      "dtype: float64\n"
     ]
    }
   ],
   "source": [
    "import pandas as pd\n",
    "import numpy as np\n",
    "\n",
    "# Seu código aqui\n",
    "anomalia_term = [-0.08,-0.27,0.12,-0.03,0.26,0.4,1.02]\n",
    "tabela = pd.Series(anomalia_term, index=[1900,1920,1940,1960,1980,2000,2020])\n",
    "print(tabela)"
   ]
  },
  {
   "cell_type": "markdown",
   "metadata": {},
   "source": [
    "#### 2) Coloque os anos nos índices conforme a tabela."
   ]
  },
  {
   "cell_type": "code",
   "execution_count": 9,
   "metadata": {},
   "outputs": [
    {
     "name": "stdout",
     "output_type": "stream",
     "text": [
      "      Anom Térm\n",
      "Ano            \n",
      "1900      -0.08\n",
      "1920      -0.27\n",
      "1940       0.12\n",
      "1960      -0.03\n",
      "1980       0.26\n",
      "2000       0.40\n",
      "2020       1.02\n"
     ]
    }
   ],
   "source": [
    "\n",
    "# seu código aqui\n",
    "anomalia_term = [-0.08,-0.27,0.12,-0.03,0.26,0.4,1.02]\n",
    "anos = [1900,1920,1940,1960,1980,2000,2020]\n",
    "data = {'Ano':anos,'Anom Térm':anomalia_term}\n",
    "df = pd.DataFrame(data)\n",
    "df = df.set_index('Ano')\n",
    "print(df)"
   ]
  },
  {
   "cell_type": "markdown",
   "metadata": {},
   "source": [
    "#### 3) A partir do dicionário abaixo, crie uma séries do Pandas:"
   ]
  },
  {
   "cell_type": "code",
   "execution_count": 10,
   "metadata": {},
   "outputs": [
    {
     "name": "stdout",
     "output_type": "stream",
     "text": [
      "1900   -0.08\n",
      "1920   -0.27\n",
      "1940    0.12\n",
      "1960   -0.03\n",
      "1980    0.26\n",
      "2000    0.40\n",
      "2020    1.02\n",
      "dtype: float64\n"
     ]
    }
   ],
   "source": [
    "dic_temperaturas = {1900: -.08, 1920: -.27, 1940: .12, 1960: -.03, 1980: .26, 2000: .40, 2020: 1.02}\n",
    "\n",
    "# seu código aqui\n",
    "temperaturas = pd.Series(dic_temperaturas)\n",
    "print(temperaturas)\n"
   ]
  },
  {
   "cell_type": "markdown",
   "metadata": {},
   "source": [
    "#### 4) Transforme o ndarray abaixo em um dataframe. \n",
    "O numpy é capaz de gerar arrays n-dimensionais com números pseudo-aleatórios de acordo com uma variedade de distribuições, como no exemplo abaixo. Transforme esse nd-array em um DataFrame."
   ]
  },
  {
   "cell_type": "code",
   "execution_count": 11,
   "metadata": {},
   "outputs": [
    {
     "name": "stdout",
     "output_type": "stream",
     "text": [
      "             0           1           2\n",
      "0   106.079740  103.126632  111.962911\n",
      "1    99.035259  103.796253  102.081969\n",
      "2    93.114649   91.041431   95.477398\n",
      "3   105.909571   90.482724  105.019303\n",
      "4    85.519592   91.781274   92.193535\n",
      "5   113.444720  120.714730  107.946742\n",
      "6    82.725775   99.848301  103.943821\n",
      "7   111.135996  104.143816  101.968410\n",
      "8   107.524104   99.208872  117.756090\n",
      "9   104.310370   96.471571  107.131672\n",
      "10   98.633777   83.886633   89.419775\n",
      "11   89.134954  101.973318   92.512955\n",
      "12   98.738843   97.688921  113.314645\n",
      "13   84.044681  100.357686  103.981682\n",
      "14   95.020120  115.744724  101.907301\n",
      "15   99.801190  105.114481   98.879937\n",
      "16   89.527947  100.763507   96.354531\n",
      "17   81.763020  108.315801   99.110035\n",
      "18  109.628210   98.526548  106.600685\n",
      "19  109.217559   75.258980  104.672069\n"
     ]
    }
   ],
   "source": [
    "arr = np.random.normal(100, 10, (20,3))\n",
    "\n",
    "# seu código aqui\n",
    "df = pd.DataFrame(arr)\n",
    "print(df)"
   ]
  },
  {
   "cell_type": "markdown",
   "metadata": {},
   "source": [
    "#### 5) Nomeie os índices das linhas com inteiros de 1 a 20, e as colunas com os nomes \"x1\", \"x2\", e \"x3\" respectivamente."
   ]
  },
  {
   "cell_type": "code",
   "execution_count": 16,
   "metadata": {},
   "outputs": [
    {
     "name": "stdout",
     "output_type": "stream",
     "text": [
      "            x1          x2          x3\n",
      "1   106.079740  103.126632  111.962911\n",
      "2    99.035259  103.796253  102.081969\n",
      "3    93.114649   91.041431   95.477398\n",
      "4   105.909571   90.482724  105.019303\n",
      "5    85.519592   91.781274   92.193535\n",
      "6   113.444720  120.714730  107.946742\n",
      "7    82.725775   99.848301  103.943821\n",
      "8   111.135996  104.143816  101.968410\n",
      "9   107.524104   99.208872  117.756090\n",
      "10  104.310370   96.471571  107.131672\n",
      "11   98.633777   83.886633   89.419775\n",
      "12   89.134954  101.973318   92.512955\n",
      "13   98.738843   97.688921  113.314645\n",
      "14   84.044681  100.357686  103.981682\n",
      "15   95.020120  115.744724  101.907301\n",
      "16   99.801190  105.114481   98.879937\n",
      "17   89.527947  100.763507   96.354531\n",
      "18   81.763020  108.315801   99.110035\n",
      "19  109.628210   98.526548  106.600685\n",
      "20  109.217559   75.258980  104.672069\n"
     ]
    }
   ],
   "source": [
    "#seu código aqui\n",
    "\n",
    "df = pd.DataFrame(arr, columns=['x1', 'x2', 'x3'], index=range(1, arr.shape[0]+1))\n",
    "\n",
    "print(df)\n"
   ]
  },
  {
   "cell_type": "markdown",
   "metadata": {},
   "source": [
    "#### 6) No DataFrame do exercício 5, crie uma nova coluna como sendo a média das três colunas, e dê a ela o nome de \"media\" (não recomendo colocar acentos em nomes de variáveis)."
   ]
  },
  {
   "cell_type": "code",
   "execution_count": 17,
   "metadata": {},
   "outputs": [
    {
     "name": "stdout",
     "output_type": "stream",
     "text": [
      "            x1          x2          x3       media\n",
      "1   106.079740  103.126632  111.962911  107.056428\n",
      "2    99.035259  103.796253  102.081969  101.637827\n",
      "3    93.114649   91.041431   95.477398   93.211159\n",
      "4   105.909571   90.482724  105.019303  100.470533\n",
      "5    85.519592   91.781274   92.193535   89.831467\n",
      "6   113.444720  120.714730  107.946742  114.035397\n",
      "7    82.725775   99.848301  103.943821   95.505966\n",
      "8   111.135996  104.143816  101.968410  105.749407\n",
      "9   107.524104   99.208872  117.756090  108.163022\n",
      "10  104.310370   96.471571  107.131672  102.637871\n",
      "11   98.633777   83.886633   89.419775   90.646729\n",
      "12   89.134954  101.973318   92.512955   94.540409\n",
      "13   98.738843   97.688921  113.314645  103.247469\n",
      "14   84.044681  100.357686  103.981682   96.128017\n",
      "15   95.020120  115.744724  101.907301  104.224048\n",
      "16   99.801190  105.114481   98.879937  101.265202\n",
      "17   89.527947  100.763507   96.354531   95.548661\n",
      "18   81.763020  108.315801   99.110035   96.396285\n",
      "19  109.628210   98.526548  106.600685  104.918481\n",
      "20  109.217559   75.258980  104.672069   96.382870\n"
     ]
    }
   ],
   "source": [
    "# seu código aqui\n",
    "df = pd.DataFrame(arr, columns=['x1', 'x2', 'x3'], index=range(1, arr.shape[0]+1))\n",
    "df['media'] = df.mean(axis=1)\n",
    "print(df)"
   ]
  },
  {
   "cell_type": "markdown",
   "metadata": {},
   "source": [
    "#### 7) No DataFrame do exercício 6, crie uma nova coluna chamada \"log_med\", contendo o logaritmo natural da média calculada no exercício 6 <br>"
   ]
  },
  {
   "cell_type": "code",
   "execution_count": 18,
   "metadata": {},
   "outputs": [
    {
     "name": "stdout",
     "output_type": "stream",
     "text": [
      "            x1          x2          x3       media   log_med\n",
      "1   106.079740  103.126632  111.962911  107.056428  4.673356\n",
      "2    99.035259  103.796253  102.081969  101.637827  4.621416\n",
      "3    93.114649   91.041431   95.477398   93.211159  4.534867\n",
      "4   105.909571   90.482724  105.019303  100.470533  4.609864\n",
      "5    85.519592   91.781274   92.193535   89.831467  4.497935\n",
      "6   113.444720  120.714730  107.946742  114.035397  4.736509\n",
      "7    82.725775   99.848301  103.943821   95.505966  4.559189\n",
      "8   111.135996  104.143816  101.968410  105.749407  4.661072\n",
      "9   107.524104   99.208872  117.756090  108.163022  4.683640\n",
      "10  104.310370   96.471571  107.131672  102.637871  4.631207\n",
      "11   98.633777   83.886633   89.419775   90.646729  4.506970\n",
      "12   89.134954  101.973318   92.512955   94.540409  4.549027\n",
      "13   98.738843   97.688921  113.314645  103.247469  4.637129\n",
      "14   84.044681  100.357686  103.981682   96.128017  4.565681\n",
      "15   95.020120  115.744724  101.907301  104.224048  4.646543\n",
      "16   99.801190  105.114481   98.879937  101.265202  4.617743\n",
      "17   89.527947  100.763507   96.354531   95.548661  4.559636\n",
      "18   81.763020  108.315801   99.110035   96.396285  4.568468\n",
      "19  109.628210   98.526548  106.600685  104.918481  4.653184\n",
      "20  109.217559   75.258980  104.672069   96.382870  4.568328\n"
     ]
    }
   ],
   "source": [
    "# seu código aqui\n",
    "df = pd.DataFrame(arr, columns=['x1', 'x2', 'x3'], index=range(1, arr.shape[0]+1))\n",
    "df['media'] = df.mean(axis=1)\n",
    "df['log_med'] = np.log(df['media'])\n",
    "print(df)"
   ]
  },
  {
   "cell_type": "code",
   "execution_count": null,
   "metadata": {},
   "outputs": [],
   "source": []
  }
 ],
 "metadata": {
  "kernelspec": {
   "display_name": "Python 3 (ipykernel)",
   "language": "python",
   "name": "python3"
  },
  "language_info": {
   "codemirror_mode": {
    "name": "ipython",
    "version": 3
   },
   "file_extension": ".py",
   "mimetype": "text/x-python",
   "name": "python",
   "nbconvert_exporter": "python",
   "pygments_lexer": "ipython3",
   "version": "3.10.9"
  }
 },
 "nbformat": 4,
 "nbformat_minor": 4
}
